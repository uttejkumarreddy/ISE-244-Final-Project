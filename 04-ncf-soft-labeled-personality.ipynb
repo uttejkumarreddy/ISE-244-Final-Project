{
 "cells": [
  {
   "cell_type": "code",
   "execution_count": 1,
   "metadata": {},
   "outputs": [],
   "source": [
    "from tensorflow.keras.layers import Softmax, Multiply\n",
    "import numpy as np\n",
    "import pandas as pd\n",
    "import tensorflow as tf\n",
    "from tensorflow.keras.models import Model\n",
    "from tensorflow.keras.layers import Input, Embedding, Flatten, Dense, Concatenate, Reshape"
   ]
  },
  {
   "cell_type": "code",
   "execution_count": 2,
   "metadata": {},
   "outputs": [],
   "source": [
    "df_ratings = pd.read_csv('data/preprocessed/ratings.csv')\n",
    "df_personality = pd.read_csv('data/preprocessed/personality.csv')\n",
    "df = df_ratings.merge(df_personality, on='user_id')"
   ]
  },
  {
   "cell_type": "code",
   "execution_count": 3,
   "metadata": {},
   "outputs": [],
   "source": [
    "# Find the number of unique users and movies in the dataset\n",
    "df_ratings = pd.read_csv('data/preprocessed/ratings.csv')\n",
    "number_of_unique_users = df_ratings.user_id.unique().shape[0]\n",
    "number_of_unique_movies = df_ratings.movie_id.unique().shape[0]\n",
    "\n",
    "number_of_personality_dims = 5"
   ]
  },
  {
   "cell_type": "code",
   "execution_count": 4,
   "metadata": {},
   "outputs": [],
   "source": [
    "# Define the embedding dimensions\n",
    "embedding_dim = 16\n",
    "\n",
    "# Define the input layers\n",
    "user_input = Input(shape=(1,))\n",
    "movie_input = Input(shape=(1,))\n",
    "personality_input = Input(shape=(number_of_personality_dims,))\n",
    "\n",
    "# Create user and movie embeddings\n",
    "user_embedding = Embedding(number_of_unique_users, embedding_dim)(user_input)\n",
    "user_embedding = Flatten()(user_embedding)\n",
    "\n",
    "movie_embedding = Embedding(number_of_unique_movies, embedding_dim)(movie_input)\n",
    "movie_embedding = Flatten()(movie_embedding)\n",
    "\n",
    "# Apply Softmax to personality scores\n",
    "personality_scores = Softmax()(personality_input)\n",
    "\n",
    "# Flatten personality scores\n",
    "personality_flat = Flatten()(personality_scores)\n",
    "\n",
    "# Concatenate user, movie, and personality embeddings\n",
    "concat = Concatenate()([user_embedding, movie_embedding, personality_flat])\n",
    "\n",
    "# Create a 4-layer MLP\n",
    "layer1 = Dense(64, activation='relu')(concat)\n",
    "layer2 = Dense(32, activation='relu')(layer1)\n",
    "layer3 = Dense(16, activation='relu')(layer2)\n",
    "output = Dense(1)(layer3)  # Output layer for rating prediction\n",
    "\n",
    "# Create the model\n",
    "model = Model(inputs=[user_input, movie_input, personality_input], outputs=output)"
   ]
  },
  {
   "cell_type": "code",
   "execution_count": 5,
   "metadata": {},
   "outputs": [],
   "source": [
    "# Compile the model\n",
    "model.compile(loss='mean_squared_error', optimizer='adam')"
   ]
  },
  {
   "cell_type": "code",
   "execution_count": 6,
   "metadata": {},
   "outputs": [
    {
     "name": "stdout",
     "output_type": "stream",
     "text": [
      "Epoch 1/10\n",
      "13375/13375 [==============================] - 121s 9ms/step - loss: 0.7002\n",
      "Epoch 2/10\n",
      "13375/13375 [==============================] - 121s 9ms/step - loss: 0.5969\n",
      "Epoch 3/10\n",
      "13375/13375 [==============================] - 114s 9ms/step - loss: 0.5675\n",
      "Epoch 4/10\n",
      "13375/13375 [==============================] - 102s 8ms/step - loss: 0.5425\n",
      "Epoch 5/10\n",
      "13375/13375 [==============================] - 175s 13ms/step - loss: 0.5203\n",
      "Epoch 6/10\n",
      "13375/13375 [==============================] - 192s 14ms/step - loss: 0.5007\n",
      "Epoch 7/10\n",
      "13375/13375 [==============================] - 189s 14ms/step - loss: 0.4839\n",
      "Epoch 8/10\n",
      "13375/13375 [==============================] - 182s 14ms/step - loss: 0.4692\n",
      "Epoch 9/10\n",
      "13375/13375 [==============================] - 180s 13ms/step - loss: 0.4561\n",
      "Epoch 10/10\n",
      "13375/13375 [==============================] - 178s 13ms/step - loss: 0.4451\n"
     ]
    },
    {
     "data": {
      "text/plain": [
       "<keras.callbacks.History at 0x1e9b10c2e10>"
      ]
     },
     "execution_count": 6,
     "metadata": {},
     "output_type": "execute_result"
    }
   ],
   "source": [
    "# Train the model for 10 epochs with a batch size of 64\n",
    "df_train = pd.read_csv('data/preprocessed/ratings-train.csv')\n",
    "\n",
    "train_user_ids = df_train['user_id'].values\n",
    "train_movie_ids = df_train['movie_id'].values\n",
    "train_ratings = df_train['rating'].values\n",
    "train_personality = df_train[['openness', 'agreeableness', 'neuroticism', 'conscientiousness', 'extraversion']].values\n",
    "train_personality_input = np.array(train_personality)  # Keep all 5 personality scores\n",
    "\n",
    "model.fit([train_user_ids, train_movie_ids, train_personality_input], train_ratings, epochs=10, batch_size=64)"
   ]
  },
  {
   "cell_type": "code",
   "execution_count": null,
   "metadata": {},
   "outputs": [],
   "source": [
    "model.save('ncf-soft-labeled-personality.h5')"
   ]
  },
  {
   "cell_type": "code",
   "execution_count": null,
   "metadata": {},
   "outputs": [],
   "source": []
  }
 ],
 "metadata": {
  "kernelspec": {
   "display_name": "Python 3",
   "language": "python",
   "name": "python3"
  },
  "language_info": {
   "codemirror_mode": {
    "name": "ipython",
    "version": 3
   },
   "file_extension": ".py",
   "mimetype": "text/x-python",
   "name": "python",
   "nbconvert_exporter": "python",
   "pygments_lexer": "ipython3",
   "version": "3.11.3"
  },
  "orig_nbformat": 4
 },
 "nbformat": 4,
 "nbformat_minor": 2
}
