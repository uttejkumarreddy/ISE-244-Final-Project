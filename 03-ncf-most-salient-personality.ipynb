{
 "cells": [
  {
   "attachments": {},
   "cell_type": "markdown",
   "metadata": {},
   "source": [
    "We do the same thing we did in the base ncf model but with the addition of most salient personality into the neural model. \n",
    "</br>\n",
    "According to the paper, 'In this model, we introduce a 4-dimensional personality vector for each of the five types of personalities, which are learned during training. We treat the most salient personality as the user’s personality label and concatenate the corresponding personality vector with the user’s latent vector.'"
   ]
  },
  {
   "cell_type": "code",
   "execution_count": 1,
   "metadata": {},
   "outputs": [],
   "source": [
    "import numpy as np\n",
    "import pandas as pd\n",
    "import tensorflow as tf\n",
    "from tensorflow.keras.models import Model\n",
    "from tensorflow.keras.layers import Input, Embedding, Flatten, Dense, Concatenate"
   ]
  },
  {
   "cell_type": "code",
   "execution_count": 2,
   "metadata": {},
   "outputs": [],
   "source": [
    "df_ratings = pd.read_csv('data/preprocessed/ratings.csv')\n",
    "df_personality = pd.read_csv('data/preprocessed/personality.csv')\n",
    "df = df_ratings.merge(df_personality, on='user_id')"
   ]
  },
  {
   "cell_type": "code",
   "execution_count": 20,
   "metadata": {},
   "outputs": [],
   "source": [
    "# Find the number of unique users and movies in the dataset\n",
    "df_ratings = pd.read_csv('data/preprocessed/ratings.csv')\n",
    "number_of_unique_users = df_ratings.user_id.unique().shape[0]\n",
    "number_of_unique_movies = df_ratings.movie_id.unique().shape[0]\n",
    "\n",
    "number_of_personality_dims = 5"
   ]
  },
  {
   "cell_type": "code",
   "execution_count": 25,
   "metadata": {},
   "outputs": [],
   "source": [
    "# Define the embedding dimensions\n",
    "embedding_dim = 16\n",
    "\n",
    "# Define the input layers\n",
    "user_input = Input(shape=(1,))\n",
    "movie_input = Input(shape=(1,))\n",
    "personality_input = Input(shape=(1,))\n",
    "\n",
    "# Create user and movie embeddings\n",
    "user_embedding = Embedding(number_of_unique_users, embedding_dim)(user_input)\n",
    "user_embedding = Flatten()(user_embedding)\n",
    "\n",
    "movie_embedding = Embedding(number_of_unique_movies, embedding_dim)(movie_input)\n",
    "movie_embedding = Flatten()(movie_embedding)\n",
    "\n",
    "# Select the most salient personality trait\n",
    "max_personality_trait = tf.argmax(personality_input, axis=1)\n",
    "\n",
    "# Create personality embedding\n",
    "personality_embedding = Embedding(number_of_personality_dims, embedding_dim)(max_personality_trait)\n",
    "personality_embedding = Flatten()(personality_embedding)\n",
    "\n",
    "# Concatenate user, movie, and personality embeddings\n",
    "concat = Concatenate()([user_embedding, movie_embedding, personality_embedding])\n",
    "\n",
    "# Create a 4-layer MLP\n",
    "layer1 = Dense(64, activation='relu')(concat)\n",
    "layer2 = Dense(32, activation='relu')(layer1)\n",
    "layer3 = Dense(16, activation='relu')(layer2)\n",
    "output = Dense(1)(layer3)  # Output layer for rating prediction\n",
    "\n",
    "# Create the model\n",
    "model = Model(inputs=[user_input, movie_input, personality_input], outputs=output)"
   ]
  },
  {
   "cell_type": "code",
   "execution_count": 26,
   "metadata": {},
   "outputs": [],
   "source": [
    "# Compile the model\n",
    "model.compile(loss='mean_squared_error', optimizer='adam')"
   ]
  },
  {
   "cell_type": "code",
   "execution_count": 29,
   "metadata": {},
   "outputs": [],
   "source": [
    "# Train the model for 10 epochs with a batch size of 64\n",
    "df_train = pd.read_csv('data/preprocessed/ratings-train.csv')\n",
    "\n",
    "train_user_ids = df_train['user_id'].values\n",
    "train_movie_ids = df_train['movie_id'].values\n",
    "train_ratings = df_train['rating'].values\n",
    "train_personality = df_train[['openness', 'agreeableness', 'neuroticism', 'conscientiousness', 'extraversion']].values\n",
    "train_personality_input = np.argmax(train_personality, axis=1)  # Select the most salient personality trait"
   ]
  },
  {
   "cell_type": "code",
   "execution_count": 30,
   "metadata": {},
   "outputs": [
    {
     "name": "stdout",
     "output_type": "stream",
     "text": [
      "Epoch 1/10\n",
      "13375/13375 [==============================] - 103s 8ms/step - loss: 0.7016\n",
      "Epoch 2/10\n",
      "13375/13375 [==============================] - 104s 8ms/step - loss: 0.6013\n",
      "Epoch 3/10\n",
      "13375/13375 [==============================] - 107s 8ms/step - loss: 0.5706\n",
      "Epoch 4/10\n",
      "13375/13375 [==============================] - 113s 8ms/step - loss: 0.5444\n",
      "Epoch 5/10\n",
      "13375/13375 [==============================] - 102s 8ms/step - loss: 0.5228\n",
      "Epoch 6/10\n",
      "13375/13375 [==============================] - 99s 7ms/step - loss: 0.5047\n",
      "Epoch 7/10\n",
      "13375/13375 [==============================] - 98s 7ms/step - loss: 0.4890\n",
      "Epoch 8/10\n",
      "13375/13375 [==============================] - 97s 7ms/step - loss: 0.4753\n",
      "Epoch 9/10\n",
      "13375/13375 [==============================] - 93s 7ms/step - loss: 0.4633\n",
      "Epoch 10/10\n",
      "13375/13375 [==============================] - 242s 18ms/step - loss: 0.4527\n"
     ]
    },
    {
     "data": {
      "text/plain": [
       "<keras.callbacks.History at 0x20acca04590>"
      ]
     },
     "execution_count": 30,
     "metadata": {},
     "output_type": "execute_result"
    }
   ],
   "source": [
    "# Train the model\n",
    "model.fit([train_user_ids, train_movie_ids, train_personality_input], train_ratings, epochs=10, batch_size=64)"
   ]
  },
  {
   "cell_type": "code",
   "execution_count": 31,
   "metadata": {},
   "outputs": [],
   "source": [
    "model.save('saved-models/ncf-most-salient-personality.h5')"
   ]
  }
 ],
 "metadata": {
  "kernelspec": {
   "display_name": "Python 3",
   "language": "python",
   "name": "python3"
  },
  "language_info": {
   "codemirror_mode": {
    "name": "ipython",
    "version": 3
   },
   "file_extension": ".py",
   "mimetype": "text/x-python",
   "name": "python",
   "nbconvert_exporter": "python",
   "pygments_lexer": "ipython3",
   "version": "3.11.3"
  },
  "orig_nbformat": 4
 },
 "nbformat": 4,
 "nbformat_minor": 2
}
