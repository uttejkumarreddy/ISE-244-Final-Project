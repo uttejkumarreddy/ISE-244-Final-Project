{
 "cells": [
  {
   "cell_type": "code",
   "execution_count": 1,
   "metadata": {},
   "outputs": [],
   "source": [
    "from tensorflow.keras.layers import Softmax, Multiply\n",
    "import numpy as np\n",
    "import pandas as pd\n",
    "import tensorflow as tf\n",
    "from tensorflow.keras.models import Model\n",
    "from tensorflow.keras.layers import Input, Embedding, Flatten, Dense, Concatenate, Reshape"
   ]
  },
  {
   "cell_type": "code",
   "execution_count": 2,
   "metadata": {},
   "outputs": [],
   "source": [
    "df_ratings = pd.read_csv('data/preprocessed/ratings.csv')\n",
    "df_personality = pd.read_csv('data/preprocessed/personality.csv')\n",
    "df = df_ratings.merge(df_personality, on='user_id')"
   ]
  },
  {
   "cell_type": "code",
   "execution_count": 6,
   "metadata": {},
   "outputs": [],
   "source": [
    "# Find the number of unique users and movies in the dataset\n",
    "df_ratings = pd.read_csv('data/preprocessed/ratings.csv')\n",
    "num_users = df_ratings.user_id.unique().shape[0]\n",
    "num_movies = df_ratings.movie_id.unique().shape[0]\n",
    "\n",
    "num_personality_dims = 5"
   ]
  },
  {
   "cell_type": "code",
   "execution_count": 7,
   "metadata": {},
   "outputs": [],
   "source": [
    "# Define the embedding dimensions\n",
    "embedding_dim = 16\n",
    "\n",
    "# Define the input layers\n",
    "user_input = Input(shape=(1,))\n",
    "movie_input = Input(shape=(1,))\n",
    "personality_input = Input(shape=(num_personality_dims,))\n",
    "\n",
    "# Create user and movie embeddings\n",
    "user_embedding = Embedding(num_users, embedding_dim)(user_input)\n",
    "user_embedding = Flatten()(user_embedding)\n",
    "\n",
    "movie_embedding = Embedding(num_movies, embedding_dim)(movie_input)\n",
    "movie_embedding = Flatten()(movie_embedding)\n",
    "\n",
    "# Scale each personality score to sum to a unit value (here, 100)\n",
    "personality_sum = tf.reduce_sum(personality_input, axis=1, keepdims=True)\n",
    "personality_normalized = personality_input / personality_sum * 100\n",
    "\n",
    "# Flatten and concatenate user embedding with normalized personality vector\n",
    "personality_vector = Flatten()(personality_normalized)\n",
    "concat = Concatenate()([user_embedding, movie_embedding, personality_vector])\n",
    "\n",
    "# Create a 4-layer MLP\n",
    "layer1 = Dense(64, activation='relu')(concat)\n",
    "layer2 = Dense(32, activation='relu')(layer1)\n",
    "layer3 = Dense(16, activation='relu')(layer2)\n",
    "output = Dense(1)(layer3)  # Output layer for rating prediction\n",
    "\n",
    "# Create the model\n",
    "model = Model(inputs=[user_input, movie_input, personality_input], outputs=output)"
   ]
  },
  {
   "cell_type": "code",
   "execution_count": 8,
   "metadata": {},
   "outputs": [],
   "source": [
    "# Compile the model\n",
    "model.compile(loss='mean_squared_error', optimizer='adam')"
   ]
  },
  {
   "cell_type": "code",
   "execution_count": 10,
   "metadata": {},
   "outputs": [],
   "source": [
    "# Train the model for 10 epochs with a batch size of 64\n",
    "df_train = pd.read_csv('data/preprocessed/ratings-train.csv')\n",
    "\n",
    "train_user_ids = df_train['user_id'].values\n",
    "train_movie_ids = df_train['movie_id'].values\n",
    "train_ratings = df_train['rating'].values\n",
    "train_personality = df_train[['openness', 'agreeableness', 'neuroticism', 'conscientiousness', 'extraversion']].values\n",
    "train_personality_input = np.array(train_personality)  # Keep all 5 personality scores"
   ]
  },
  {
   "cell_type": "code",
   "execution_count": 11,
   "metadata": {},
   "outputs": [
    {
     "name": "stdout",
     "output_type": "stream",
     "text": [
      "Epoch 1/10\n",
      "13375/13375 [==============================] - 195s 14ms/step - loss: 0.6983\n",
      "Epoch 2/10\n",
      "13375/13375 [==============================] - 192s 14ms/step - loss: 0.6327\n",
      "Epoch 3/10\n",
      "13375/13375 [==============================] - 191s 14ms/step - loss: 0.6099\n",
      "Epoch 4/10\n",
      "13375/13375 [==============================] - 180s 13ms/step - loss: 0.5954\n",
      "Epoch 5/10\n",
      "13375/13375 [==============================] - 175s 13ms/step - loss: 0.5855\n",
      "Epoch 6/10\n",
      "13375/13375 [==============================] - 161s 12ms/step - loss: 0.5774\n",
      "Epoch 7/10\n",
      "13375/13375 [==============================] - 105s 8ms/step - loss: 0.5699\n",
      "Epoch 8/10\n",
      "13375/13375 [==============================] - 104s 8ms/step - loss: 0.5631\n",
      "Epoch 9/10\n",
      "13375/13375 [==============================] - 105s 8ms/step - loss: 0.5566\n",
      "Epoch 10/10\n",
      "13375/13375 [==============================] - 104s 8ms/step - loss: 0.5499\n"
     ]
    },
    {
     "data": {
      "text/plain": [
       "<keras.callbacks.History at 0x273085ba0d0>"
      ]
     },
     "execution_count": 11,
     "metadata": {},
     "output_type": "execute_result"
    }
   ],
   "source": [
    "# Train the model\n",
    "model.fit([train_user_ids, train_movie_ids, train_personality], train_ratings, epochs=10, batch_size=64)"
   ]
  },
  {
   "cell_type": "code",
   "execution_count": 12,
   "metadata": {},
   "outputs": [],
   "source": [
    "  model.save('ncf-hard-labeled-personality.h5')"
   ]
  },
  {
   "cell_type": "code",
   "execution_count": null,
   "metadata": {},
   "outputs": [],
   "source": []
  }
 ],
 "metadata": {
  "kernelspec": {
   "display_name": "Python 3",
   "language": "python",
   "name": "python3"
  },
  "language_info": {
   "codemirror_mode": {
    "name": "ipython",
    "version": 3
   },
   "file_extension": ".py",
   "mimetype": "text/x-python",
   "name": "python",
   "nbconvert_exporter": "python",
   "pygments_lexer": "ipython3",
   "version": "3.11.3"
  },
  "orig_nbformat": 4
 },
 "nbformat": 4,
 "nbformat_minor": 2
}
