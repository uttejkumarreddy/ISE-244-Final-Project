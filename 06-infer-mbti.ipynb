{
 "cells": [
  {
   "cell_type": "code",
   "execution_count": 9,
   "metadata": {},
   "outputs": [],
   "source": [
    "import pandas as pd\n",
    "import numpy as np"
   ]
  },
  {
   "cell_type": "code",
   "execution_count": 10,
   "metadata": {},
   "outputs": [],
   "source": [
    "# Read the CSV files\n",
    "df_ratings_test = pd.read_csv('data/preprocessed/ratings-test.csv')\n",
    "df_ratings_train = pd.read_csv('data/preprocessed/ratings-train.csv')\n",
    "df_personality = pd.read_csv('data/preprocessed/personality.csv')"
   ]
  },
  {
   "cell_type": "code",
   "execution_count": 11,
   "metadata": {},
   "outputs": [],
   "source": [
    "# Define the MBTI types and their corresponding one-hot encoding indices\n",
    "mbti_types = ['INTJ', 'INTP', 'ENTJ', 'ENTP', 'INFJ', 'INFP', 'ENFJ', 'ENFP', 'ISTJ', 'ISFJ', 'ESTJ', 'ESFJ', 'ISTP', 'ISFP', 'ESTP', 'ESFP']\n",
    "num_mbti_types = len(mbti_types)"
   ]
  },
  {
   "cell_type": "code",
   "execution_count": 12,
   "metadata": {},
   "outputs": [],
   "source": [
    "# Convert personality scores to MBTI scores\n",
    "def convert_to_mbti(row):\n",
    "    mbti_scores = {\n",
    "        'openness': row['openness'],\n",
    "        'agreeableness': row['agreeableness'],\n",
    "        'neuroticism': row['neuroticism'],\n",
    "        'conscientiousness': row['conscientiousness'],\n",
    "        'extraversion': row['extraversion']\n",
    "    }\n",
    "    \n",
    "    mbti_score = convert_ocean_to_mbti(mbti_scores)\n",
    "    row['mbti_score'] = mbti_score\n",
    "    \n",
    "    # One-hot encode the MBTI score\n",
    "    mbti_vector = np.zeros(num_mbti_types)\n",
    "    mbti_index = mbti_types.index(mbti_score)\n",
    "    mbti_vector[mbti_index] = 1\n",
    "    \n",
    "    return pd.Series(mbti_vector, index=mbti_types)"
   ]
  },
  {
   "cell_type": "code",
   "execution_count": 13,
   "metadata": {},
   "outputs": [],
   "source": [
    "# Function to convert OCEAN scores to MBTI scores\n",
    "def convert_ocean_to_mbti(ocean_scores):\n",
    "    mbti_scores = ''\n",
    "    \n",
    "    # Extraversion/Introversion\n",
    "    extraversion = ocean_scores['extraversion']\n",
    "    if extraversion >= 3.5:\n",
    "        mbti_scores += 'E'\n",
    "    else:\n",
    "        mbti_scores += 'I'\n",
    "    \n",
    "    # Sensing/Intuition\n",
    "    openness = ocean_scores['openness']\n",
    "    if openness >= 3.5:\n",
    "        mbti_scores += 'N'\n",
    "    else:\n",
    "        mbti_scores += 'S'\n",
    "    \n",
    "    # Thinking/Feeling\n",
    "    agreeableness = ocean_scores['agreeableness']\n",
    "    if agreeableness >= 3.5:\n",
    "        mbti_scores += 'F'\n",
    "    else:\n",
    "        mbti_scores += 'T'\n",
    "    \n",
    "    # Judging/Perceiving\n",
    "    conscientiousness = ocean_scores['conscientiousness']\n",
    "    if conscientiousness >= 3.5:\n",
    "        mbti_scores += 'J'\n",
    "    else:\n",
    "        mbti_scores += 'P'\n",
    "    \n",
    "    return mbti_scores"
   ]
  },
  {
   "cell_type": "code",
   "execution_count": 14,
   "metadata": {},
   "outputs": [],
   "source": [
    "# Apply conversion function to each row in the DataFrame\n",
    "df_ratings_test[mbti_types] = df_ratings_test.apply(convert_to_mbti, axis=1)\n",
    "df_ratings_train[mbti_types] = df_ratings_train.apply(convert_to_mbti, axis=1)\n",
    "df_personality[mbti_types] = df_personality.apply(convert_to_mbti, axis=1)"
   ]
  },
  {
   "cell_type": "code",
   "execution_count": 15,
   "metadata": {},
   "outputs": [],
   "source": [
    "# Save the CSV files in data/mbti\n",
    "df_ratings_test.to_csv('data/mbti/ratings-test.csv', index=False)\n",
    "df_ratings_train.to_csv('data/mbti/ratings-train.csv', index=False)\n",
    "df_personality.to_csv('data/mbti/personality.csv', index=False)"
   ]
  }
 ],
 "metadata": {
  "kernelspec": {
   "display_name": "Python 3",
   "language": "python",
   "name": "python3"
  },
  "language_info": {
   "codemirror_mode": {
    "name": "ipython",
    "version": 3
   },
   "file_extension": ".py",
   "mimetype": "text/x-python",
   "name": "python",
   "nbconvert_exporter": "python",
   "pygments_lexer": "ipython3",
   "version": "3.11.3"
  },
  "orig_nbformat": 4
 },
 "nbformat": 4,
 "nbformat_minor": 2
}
