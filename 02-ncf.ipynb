{
 "cells": [
  {
   "cell_type": "code",
   "execution_count": 7,
   "metadata": {},
   "outputs": [],
   "source": [
    "import numpy as np\n",
    "\n",
    "import tensorflow as tf\n",
    "from tensorflow.keras.models import Model\n",
    "from tensorflow.keras.layers import Input, Embedding, Flatten, Dense, Concatenate\n",
    "\n",
    "import pandas as pd"
   ]
  },
  {
   "cell_type": "code",
   "execution_count": 8,
   "metadata": {},
   "outputs": [
    {
     "name": "stdout",
     "output_type": "stream",
     "text": [
      "Unique users:  1820\n",
      "Unique movies:  35196\n"
     ]
    }
   ],
   "source": [
    "# Find the number of unique users and movies in the dataset\n",
    "df_ratings = pd.read_csv('data/preprocessed/ratings.csv')\n",
    "number_of_unique_users = df_ratings.user_id.unique().shape[0]\n",
    "number_of_unique_movies = df_ratings.movie_id.unique().shape[0]\n",
    "print('Unique users: ', number_of_unique_users)\n",
    "print('Unique movies: ', number_of_unique_movies)"
   ]
  },
  {
   "cell_type": "code",
   "execution_count": 9,
   "metadata": {},
   "outputs": [],
   "source": [
    "# Define the neural net architecture\n",
    "# The authors specify that they use a 4-layer MLP and a 16-dimensional user and item embedding\n",
    "# There are no other specifics about the architecture, so we will assume a simple architecture to begin with\n",
    "\n",
    "# Define the embedding dimension\n",
    "embedding_dim = 16\n",
    "\n",
    "# Define the input layers\n",
    "user_input = Input(shape=(1,))\n",
    "movie_input = Input(shape=(1,))\n",
    "\n",
    "# Create user and movie embeddings\n",
    "user_embedding = Embedding(number_of_unique_users, embedding_dim)(user_input)\n",
    "user_embedding = Flatten()(user_embedding)\n",
    "\n",
    "movie_embedding = Embedding(number_of_unique_movies, embedding_dim)(movie_input)\n",
    "movie_embedding = Flatten()(movie_embedding)\n",
    "\n",
    "# Concatenate user and movie embeddings\n",
    "concat = Concatenate()([user_embedding, movie_embedding])\n",
    "\n",
    "# Create a 4-layer MLP\n",
    "layer1 = Dense(64, activation='relu')(concat)\n",
    "layer2 = Dense(32, activation='relu')(layer1)\n",
    "layer3 = Dense(16, activation='relu')(layer2)\n",
    "output = Dense(1)(layer3)  # Output layer for rating prediction\n",
    "\n",
    "# Create the model\n",
    "model = Model(inputs=[user_input, movie_input], outputs=output)"
   ]
  },
  {
   "cell_type": "code",
   "execution_count": 10,
   "metadata": {},
   "outputs": [],
   "source": [
    "# Compile the model\n",
    "model.compile(loss='mean_squared_error', optimizer='adam')"
   ]
  },
  {
   "cell_type": "code",
   "execution_count": 11,
   "metadata": {},
   "outputs": [],
   "source": [
    "# Load the train dataset\n",
    "df_train = pd.read_csv('data/preprocessed/ratings-train.csv')"
   ]
  },
  {
   "cell_type": "code",
   "execution_count": 14,
   "metadata": {},
   "outputs": [
    {
     "name": "stdout",
     "output_type": "stream",
     "text": [
      "Epoch 1/10\n",
      "12860/12860 [==============================] - 102s 8ms/step - loss: 0.5494\n",
      "Epoch 2/10\n",
      "12860/12860 [==============================] - 99s 8ms/step - loss: 0.5254\n",
      "Epoch 3/10\n",
      "12860/12860 [==============================] - 103s 8ms/step - loss: 0.5067\n",
      "Epoch 4/10\n",
      "12860/12860 [==============================] - 97s 8ms/step - loss: 0.4906\n",
      "Epoch 5/10\n",
      "12860/12860 [==============================] - 98s 8ms/step - loss: 0.4770\n",
      "Epoch 6/10\n",
      "12860/12860 [==============================] - 105s 8ms/step - loss: 0.4650\n",
      "Epoch 7/10\n",
      "12860/12860 [==============================] - 112s 9ms/step - loss: 0.4544\n",
      "Epoch 8/10\n",
      "12860/12860 [==============================] - 117s 9ms/step - loss: 0.4455\n",
      "Epoch 9/10\n",
      "12860/12860 [==============================] - 108s 8ms/step - loss: 0.4375\n",
      "Epoch 10/10\n",
      "12860/12860 [==============================] - 108s 8ms/step - loss: 0.4303\n"
     ]
    },
    {
     "data": {
      "text/plain": [
       "<keras.callbacks.History at 0x1e038166f90>"
      ]
     },
     "execution_count": 14,
     "metadata": {},
     "output_type": "execute_result"
    }
   ],
   "source": [
    "# Train the model for 10 epochs with a batch size of 64\n",
    "train_user_ids = df_train['user_id'].values\n",
    "train_movie_ids = df_train['movie_id'].values\n",
    "train_ratings = df_train['rating'].values\n",
    "\n",
    "model.fit([train_user_ids, train_movie_ids], train_ratings, epochs=10, batch_size=64)"
   ]
  },
  {
   "cell_type": "code",
   "execution_count": 15,
   "metadata": {},
   "outputs": [],
   "source": [
    "model.save('saved-models/ncf.h5')"
   ]
  }
 ],
 "metadata": {
  "kernelspec": {
   "display_name": "Python 3",
   "language": "python",
   "name": "python3"
  },
  "language_info": {
   "codemirror_mode": {
    "name": "ipython",
    "version": 3
   },
   "file_extension": ".py",
   "mimetype": "text/x-python",
   "name": "python",
   "nbconvert_exporter": "python",
   "pygments_lexer": "ipython3",
   "version": "3.11.3"
  },
  "orig_nbformat": 4
 },
 "nbformat": 4,
 "nbformat_minor": 2
}
