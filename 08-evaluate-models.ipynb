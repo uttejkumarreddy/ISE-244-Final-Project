{
 "cells": [
  {
   "cell_type": "code",
   "execution_count": 2,
   "metadata": {},
   "outputs": [],
   "source": [
    "import pandas as pd\n",
    "from tensorflow.keras.models import load_model"
   ]
  },
  {
   "cell_type": "code",
   "execution_count": 3,
   "metadata": {},
   "outputs": [],
   "source": [
    "# Read the preprocessed ratings-test dataset\n",
    "df_test = pd.read_csv('data/preprocessed/ratings-test.csv')"
   ]
  },
  {
   "cell_type": "code",
   "execution_count": 4,
   "metadata": {},
   "outputs": [
    {
     "data": {
      "text/html": [
       "<div>\n",
       "<style scoped>\n",
       "    .dataframe tbody tr th:only-of-type {\n",
       "        vertical-align: middle;\n",
       "    }\n",
       "\n",
       "    .dataframe tbody tr th {\n",
       "        vertical-align: top;\n",
       "    }\n",
       "\n",
       "    .dataframe thead th {\n",
       "        text-align: right;\n",
       "    }\n",
       "</style>\n",
       "<table border=\"1\" class=\"dataframe\">\n",
       "  <thead>\n",
       "    <tr style=\"text-align: right;\">\n",
       "      <th></th>\n",
       "      <th>movie_id</th>\n",
       "      <th>rating</th>\n",
       "      <th>user_id</th>\n",
       "      <th>openness</th>\n",
       "      <th>agreeableness</th>\n",
       "      <th>neuroticism</th>\n",
       "      <th>conscientiousness</th>\n",
       "      <th>extraversion</th>\n",
       "    </tr>\n",
       "  </thead>\n",
       "  <tbody>\n",
       "    <tr>\n",
       "      <th>0</th>\n",
       "      <td>579</td>\n",
       "      <td>5.0</td>\n",
       "      <td>505</td>\n",
       "      <td>6.0</td>\n",
       "      <td>4.0</td>\n",
       "      <td>5.0</td>\n",
       "      <td>3.5</td>\n",
       "      <td>2.5</td>\n",
       "    </tr>\n",
       "    <tr>\n",
       "      <th>1</th>\n",
       "      <td>5271</td>\n",
       "      <td>1.5</td>\n",
       "      <td>505</td>\n",
       "      <td>6.0</td>\n",
       "      <td>4.0</td>\n",
       "      <td>5.0</td>\n",
       "      <td>3.5</td>\n",
       "      <td>2.5</td>\n",
       "    </tr>\n",
       "    <tr>\n",
       "      <th>2</th>\n",
       "      <td>698</td>\n",
       "      <td>4.0</td>\n",
       "      <td>505</td>\n",
       "      <td>6.0</td>\n",
       "      <td>4.0</td>\n",
       "      <td>5.0</td>\n",
       "      <td>3.5</td>\n",
       "      <td>2.5</td>\n",
       "    </tr>\n",
       "    <tr>\n",
       "      <th>3</th>\n",
       "      <td>5774</td>\n",
       "      <td>4.5</td>\n",
       "      <td>505</td>\n",
       "      <td>6.0</td>\n",
       "      <td>4.0</td>\n",
       "      <td>5.0</td>\n",
       "      <td>3.5</td>\n",
       "      <td>2.5</td>\n",
       "    </tr>\n",
       "    <tr>\n",
       "      <th>4</th>\n",
       "      <td>5915</td>\n",
       "      <td>2.5</td>\n",
       "      <td>505</td>\n",
       "      <td>6.0</td>\n",
       "      <td>4.0</td>\n",
       "      <td>5.0</td>\n",
       "      <td>3.5</td>\n",
       "      <td>2.5</td>\n",
       "    </tr>\n",
       "  </tbody>\n",
       "</table>\n",
       "</div>"
      ],
      "text/plain": [
       "   movie_id  rating  user_id  openness  agreeableness  neuroticism   \n",
       "0       579     5.0      505       6.0            4.0          5.0  \\\n",
       "1      5271     1.5      505       6.0            4.0          5.0   \n",
       "2       698     4.0      505       6.0            4.0          5.0   \n",
       "3      5774     4.5      505       6.0            4.0          5.0   \n",
       "4      5915     2.5      505       6.0            4.0          5.0   \n",
       "\n",
       "   conscientiousness  extraversion  \n",
       "0                3.5           2.5  \n",
       "1                3.5           2.5  \n",
       "2                3.5           2.5  \n",
       "3                3.5           2.5  \n",
       "4                3.5           2.5  "
      ]
     },
     "execution_count": 4,
     "metadata": {},
     "output_type": "execute_result"
    }
   ],
   "source": [
    "df_test.head()"
   ]
  },
  {
   "cell_type": "code",
   "execution_count": 5,
   "metadata": {},
   "outputs": [],
   "source": [
    "test_user_ids = df_test['user_id'].values\n",
    "test_movie_ids = df_test['movie_id'].values\n",
    "test_ratings = df_test['rating'].values\n",
    "test_personality = df_test[['openness', 'agreeableness', 'neuroticism', 'conscientiousness', 'extraversion']].values"
   ]
  },
  {
   "cell_type": "markdown",
   "metadata": {},
   "source": [
    "ncf"
   ]
  },
  {
   "cell_type": "code",
   "execution_count": 6,
   "metadata": {},
   "outputs": [
    {
     "name": "stdout",
     "output_type": "stream",
     "text": [
      "6696/6696 [==============================] - 9s 1ms/step - loss: 0.6213\n",
      "Test set loss: 0.6212708950042725\n"
     ]
    }
   ],
   "source": [
    "model_ncf = load_model('saved-models/ncf.h5')\n",
    "loss_ncf = model_ncf.evaluate([test_user_ids, test_movie_ids], test_ratings)\n",
    "print(\"Test set loss:\", loss_ncf)"
   ]
  },
  {
   "cell_type": "markdown",
   "metadata": {},
   "source": [
    "ncf-most-salient-personality"
   ]
  },
  {
   "cell_type": "code",
   "execution_count": 7,
   "metadata": {},
   "outputs": [
    {
     "name": "stdout",
     "output_type": "stream",
     "text": [
      "6696/6696 [==============================] - 9s 1ms/step - loss: 0.6273\n",
      "Test set loss: 0.6272820234298706\n"
     ]
    }
   ],
   "source": [
    "model_ncf_most_salient_personality = load_model('saved-models/ncf-most-salient-personality.h5')\n",
    "loss_ncf_most_salient_personality = model_ncf_most_salient_personality.evaluate([test_user_ids, test_movie_ids, test_personality], test_ratings)\n",
    "print(\"Test set loss:\", loss_ncf_most_salient_personality)"
   ]
  },
  {
   "attachments": {},
   "cell_type": "markdown",
   "metadata": {},
   "source": [
    "ncf-soft-labeled-personality"
   ]
  },
  {
   "cell_type": "code",
   "execution_count": 8,
   "metadata": {},
   "outputs": [
    {
     "name": "stdout",
     "output_type": "stream",
     "text": [
      "6696/6696 [==============================] - 9s 1ms/step - loss: 0.5988\n",
      "Test set loss: 0.5987539291381836\n"
     ]
    }
   ],
   "source": [
    "model_ncf_soft_labeled_personality = load_model('saved-models/ncf-soft-labeled-personality.h5')\n",
    "loss_ncf_soft_labeled_personality = model_ncf_soft_labeled_personality.evaluate([test_user_ids, test_movie_ids, test_personality], test_ratings)\n",
    "print(\"Test set loss:\", loss_ncf_soft_labeled_personality)"
   ]
  },
  {
   "cell_type": "markdown",
   "metadata": {},
   "source": [
    "ncf-hard-labeled-personality"
   ]
  },
  {
   "cell_type": "code",
   "execution_count": 9,
   "metadata": {},
   "outputs": [
    {
     "name": "stdout",
     "output_type": "stream",
     "text": [
      "6696/6696 [==============================] - 8s 1ms/step - loss: 0.6146\n",
      "Test set loss: 0.6145659685134888\n"
     ]
    }
   ],
   "source": [
    "model_ncf_hard_coded_personality = load_model('saved-models/ncf-hard-coded-personality.h5')\n",
    "loss_ncf_hard_coded_personality = model_ncf_hard_coded_personality.evaluate([test_user_ids, test_movie_ids, test_personality], test_ratings)\n",
    "print(\"Test set loss:\", loss_ncf_hard_coded_personality)"
   ]
  },
  {
   "attachments": {},
   "cell_type": "markdown",
   "metadata": {},
   "source": [
    "ncf-most-salient-personality-mbti"
   ]
  },
  {
   "cell_type": "code",
   "execution_count": 10,
   "metadata": {},
   "outputs": [
    {
     "name": "stdout",
     "output_type": "stream",
     "text": [
      "6696/6696 [==============================] - 9s 1ms/step - loss: 0.6156\n",
      "Test set loss: 0.6156397461891174\n"
     ]
    }
   ],
   "source": [
    "df_rating_test_mbti = pd.read_csv('data/mbti/ratings-test.csv')\n",
    "mbti_types = ['INTJ', 'INTP', 'ENTJ', 'ENTP', 'INFJ', 'INFP', 'ENFJ', 'ENFP', 'ISTJ', 'ISFJ', 'ESTJ', 'ESFJ', 'ISTP', 'ISFP', 'ESTP', 'ESFP']\n",
    "\n",
    "test_user_ids = df_rating_test_mbti['user_id'].values\n",
    "test_movie_ids = df_rating_test_mbti['movie_id'].values\n",
    "test_mbti_scores = df_rating_test_mbti[mbti_types].values\n",
    "test_ratings = df_rating_test_mbti['rating'].values\n",
    "\n",
    "model_ncf_most_salient_personality_mbti = load_model('saved-models/ncf-most-salient-personality-mbti.h5')\n",
    "loss_ncf_most_salient_personality_mbti = model_ncf_most_salient_personality_mbti.evaluate([test_user_ids, test_movie_ids, test_mbti_scores], test_ratings)\n",
    "\n",
    "print(\"Test set loss:\", loss_ncf_most_salient_personality_mbti)"
   ]
  },
  {
   "cell_type": "markdown",
   "metadata": {},
   "source": [
    "Loss plots"
   ]
  },
  {
   "cell_type": "code",
   "execution_count": 14,
   "metadata": {},
   "outputs": [
    {
     "data": {
      "image/png": "[encoded data removed]",
      "text/plain": [
       "<Figure size 640x480 with 1 Axes>"
      ]
     },
     "metadata": {},
     "output_type": "display_data"
    }
   ],
   "source": [
    "import matplotlib.pyplot as plt\n",
    "\n",
    "labels = ['NCF', 'NCF-MSP', 'NCF-SLP', 'NCF-HCP', 'NCF-MSP-MBTI']\n",
    "values = [loss_ncf, loss_ncf_most_salient_personality, loss_ncf_soft_labeled_personality, loss_ncf_hard_coded_personality, loss_ncf_most_salient_personality_mbti]\n",
    "\n",
    "# Annotate values on top of bars\n",
    "for i, v in enumerate(values):\n",
    "\tplt.text(i, v+0.01, str(round(v, 3)), ha='center')\n",
    "\n",
    "plt.bar(labels, values)\n",
    "plt.ylabel('Loss')\n",
    "\n",
    "# Save to file\n",
    "plt.savefig('model-evaluation-loss.png', bbox_inches='tight')\n",
    "\n",
    "plt.show()"
   ]
  }
 ],
 "metadata": {
  "kernelspec": {
   "display_name": "Python 3",
   "language": "python",
   "name": "python3"
  },
  "language_info": {
   "codemirror_mode": {
    "name": "ipython",
    "version": 3
   },
   "file_extension": ".py",
   "mimetype": "text/x-python",
   "name": "python",
   "nbconvert_exporter": "python",
   "pygments_lexer": "ipython3",
   "version": "3.11.3"
  },
  "orig_nbformat": 4
 },
 "nbformat": 4,
 "nbformat_minor": 2
}
