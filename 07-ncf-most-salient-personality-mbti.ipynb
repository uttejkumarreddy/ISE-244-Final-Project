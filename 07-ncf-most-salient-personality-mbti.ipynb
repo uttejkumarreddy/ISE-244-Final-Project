{
 "cells": [
  {
   "cell_type": "code",
   "execution_count": 1,
   "metadata": {},
   "outputs": [],
   "source": [
    "import numpy as np\n",
    "import pandas as pd\n",
    "import tensorflow as tf\n",
    "from tensorflow.keras.models import Model\n",
    "from tensorflow.keras.layers import Input, Embedding, Flatten, Dense, Concatenate"
   ]
  },
  {
   "cell_type": "code",
   "execution_count": 2,
   "metadata": {},
   "outputs": [],
   "source": [
    "df_rating = pd.read_csv('data/mbti/ratings.csv')\n",
    "df_personality = pd.read_csv('data/mbti/personality.csv')\n",
    "df = pd.merge(df_rating, df_personality, on='user_id')\n",
    "\n",
    "mbti_types = ['INTJ', 'INTP', 'ENTJ', 'ENTP', 'INFJ', 'INFP', 'ENFJ', 'ENFP', 'ISTJ', 'ISFJ', 'ESTJ', 'ESFJ', 'ISTP', 'ISFP', 'ESTP', 'ESFP']"
   ]
  },
  {
   "cell_type": "code",
   "execution_count": 3,
   "metadata": {},
   "outputs": [],
   "source": [
    "# Define the number of unique users, movies, and personality dimensions\n",
    "num_users = df['user_id'].nunique()\n",
    "num_movies = df['movie_id'].nunique()\n",
    "num_mbti_types = 16"
   ]
  },
  {
   "cell_type": "code",
   "execution_count": 4,
   "metadata": {},
   "outputs": [],
   "source": [
    "# Define the embedding dimensions\n",
    "embedding_dim = 16\n",
    "\n",
    "# Define the input layers\n",
    "user_input = Input(shape=(1,))\n",
    "movie_input = Input(shape=(1,))\n",
    "mbti_input = Input(shape=(num_mbti_types,))\n",
    "\n",
    "# Create user and movie embeddings\n",
    "user_embedding = Embedding(num_users, embedding_dim)(user_input)\n",
    "user_embedding = Flatten()(user_embedding)\n",
    "\n",
    "movie_embedding = Embedding(num_movies, embedding_dim)(movie_input)\n",
    "movie_embedding = Flatten()(movie_embedding)\n",
    "\n",
    "# Concatenate user, movie, and MBTI embeddings\n",
    "concat = Concatenate()([user_embedding, movie_embedding, mbti_input])\n",
    "\n",
    "# Create a 4-layer MLP\n",
    "layer1 = Dense(64, activation='relu')(concat)\n",
    "layer2 = Dense(32, activation='relu')(layer1)\n",
    "layer3 = Dense(16, activation='relu')(layer2)\n",
    "output = Dense(1)(layer3)  # Output layer for rating prediction\n",
    "\n",
    "# Create the model\n",
    "model = Model(inputs=[user_input, movie_input, mbti_input], outputs=output)"
   ]
  },
  {
   "cell_type": "code",
   "execution_count": 5,
   "metadata": {},
   "outputs": [],
   "source": [
    "# Compile the model\n",
    "model.compile(loss='mean_squared_error', optimizer='adam')"
   ]
  },
  {
   "cell_type": "code",
   "execution_count": 12,
   "metadata": {},
   "outputs": [],
   "source": [
    "# Train the model for 10 epochs with a batch size of 64\n",
    "df_train = pd.read_csv('data/mbti/ratings-train.csv')\n",
    "\n",
    "train_user_ids = df_train['user_id'].values\n",
    "train_movie_ids = df_train['movie_id'].values\n",
    "train_ratings = df_train['rating'].values\n",
    "train_mbti_scores = df_train[mbti_types].values\n"
   ]
  },
  {
   "cell_type": "code",
   "execution_count": 13,
   "metadata": {},
   "outputs": [
    {
     "name": "stdout",
     "output_type": "stream",
     "text": [
      "Epoch 1/10\n",
      "13375/13375 [==============================] - 104s 8ms/step - loss: 0.7115\n",
      "Epoch 2/10\n",
      "13375/13375 [==============================] - 122s 9ms/step - loss: 0.6065\n",
      "Epoch 3/10\n",
      "13375/13375 [==============================] - 113s 8ms/step - loss: 0.5733\n",
      "Epoch 4/10\n",
      "13375/13375 [==============================] - 99s 7ms/step - loss: 0.5463\n",
      "Epoch 5/10\n",
      "13375/13375 [==============================] - 102s 8ms/step - loss: 0.5225\n",
      "Epoch 6/10\n",
      "13375/13375 [==============================] - 112s 8ms/step - loss: 0.5014\n",
      "Epoch 7/10\n",
      "13375/13375 [==============================] - 102s 8ms/step - loss: 0.4837\n",
      "Epoch 8/10\n",
      "13375/13375 [==============================] - 112s 8ms/step - loss: 0.4687\n",
      "Epoch 9/10\n",
      "13375/13375 [==============================] - 113s 8ms/step - loss: 0.4560\n",
      "Epoch 10/10\n",
      "13375/13375 [==============================] - 112s 8ms/step - loss: 0.4448\n"
     ]
    },
    {
     "data": {
      "text/plain": [
       "<keras.callbacks.History at 0x1e1009eb490>"
      ]
     },
     "execution_count": 13,
     "metadata": {},
     "output_type": "execute_result"
    }
   ],
   "source": [
    "# Train the model\n",
    "model.fit([train_user_ids, train_movie_ids, train_mbti_scores], train_ratings, epochs=10, batch_size=64)"
   ]
  },
  {
   "cell_type": "code",
   "execution_count": 15,
   "metadata": {},
   "outputs": [],
   "source": [
    "model.save('saved-models/ncf-most-salient-personality-mbti.h5')"
   ]
  },
  {
   "cell_type": "code",
   "execution_count": null,
   "metadata": {},
   "outputs": [],
   "source": []
  }
 ],
 "metadata": {
  "kernelspec": {
   "display_name": "Python 3",
   "language": "python",
   "name": "python3"
  },
  "language_info": {
   "codemirror_mode": {
    "name": "ipython",
    "version": 3
   },
   "file_extension": ".py",
   "mimetype": "text/x-python",
   "name": "python",
   "nbconvert_exporter": "python",
   "pygments_lexer": "ipython3",
   "version": "3.11.3"
  },
  "orig_nbformat": 4
 },
 "nbformat": 4,
 "nbformat_minor": 2
}
